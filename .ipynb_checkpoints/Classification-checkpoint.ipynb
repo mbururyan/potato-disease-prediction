{
 "cells": [
  {
   "cell_type": "markdown",
   "id": "d87d796d-0901-40fe-ab78-d12009d16ebd",
   "metadata": {},
   "source": [
    "# POTATO LEAVES IMAGE CLASSIFICATION"
   ]
  },
  {
   "cell_type": "markdown",
   "id": "1b04d307-fcbb-4840-86ff-7dda94659956",
   "metadata": {},
   "source": [
    "## Data Importation"
   ]
  },
  {
   "cell_type": "markdown",
   "id": "c7a6ebcb-82c3-4ec2-8a21-50aa7fd1bc32",
   "metadata": {},
   "source": [
    "## Import Libraries"
   ]
  },
  {
   "cell_type": "code",
   "execution_count": 5,
   "id": "9150bd32-6630-448b-838e-d72d50297942",
   "metadata": {},
   "outputs": [],
   "source": [
    "import pandas as pd\n",
    "import numpy as np\n",
    "import matplotlib.pyplot as plt\n",
    "import seaborn as sns\n",
    "import sklearn as sk"
   ]
  },
  {
   "cell_type": "markdown",
   "id": "a06c86fe-6f96-4636-be89-d9b0beba7f52",
   "metadata": {},
   "source": [
    "## Load in data"
   ]
  },
  {
   "cell_type": "code",
   "execution_count": null,
   "id": "394053a9-cbb7-4f19-92ab-14f3a96ccca1",
   "metadata": {},
   "outputs": [],
   "source": []
  },
  {
   "cell_type": "code",
   "execution_count": null,
   "id": "6cea8630-7f4e-4667-96f8-ecffcd5abc80",
   "metadata": {},
   "outputs": [],
   "source": []
  },
  {
   "cell_type": "code",
   "execution_count": null,
   "id": "2761f92b-9128-4b1b-9d08-ab850d507022",
   "metadata": {},
   "outputs": [],
   "source": []
  },
  {
   "cell_type": "code",
   "execution_count": null,
   "id": "1966d412-5e4d-4268-97d9-d64dcb000cbf",
   "metadata": {},
   "outputs": [],
   "source": []
  }
 ],
 "metadata": {
  "kernelspec": {
   "display_name": "Python 3 (ipykernel)",
   "language": "python",
   "name": "python3"
  },
  "language_info": {
   "codemirror_mode": {
    "name": "ipython",
    "version": 3
   },
   "file_extension": ".py",
   "mimetype": "text/x-python",
   "name": "python",
   "nbconvert_exporter": "python",
   "pygments_lexer": "ipython3",
   "version": "3.9.13"
  },
  "vscode": {
   "interpreter": {
    "hash": "40d3a090f54c6569ab1632332b64b2c03c39dcf918b08424e98f38b5ae0af88f"
   }
  }
 },
 "nbformat": 4,
 "nbformat_minor": 5
}
